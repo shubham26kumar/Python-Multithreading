{
 "cells": [
  {
   "cell_type": "markdown",
   "id": "39e4ccaf-c8c0-4b39-812f-2a0952f691ba",
   "metadata": {},
   "source": [
    "Q.1.What is multithreading in python? Why is it used? Name the module used to handle threads in python."
   ]
  },
  {
   "cell_type": "markdown",
   "id": "4a337f43-8f45-4489-8102-27400b1431d8",
   "metadata": {},
   "source": [
    "Ans :- Multithreading in Python is a popular technique that enables multiple tasks to be executed simultaneously. In simple words, the ability of a processor to execute multiple threads simultaneously is known as multithreading.\n",
    "\n",
    "Python multithreading facilitates sharing data space and resources of multiple threads with the main thread. It allows efficient and easy communication between the threads.\n",
    "Multithreading in Python allows the concurrent and parallel occurrence of various tasks. It causes a reduction in time consumption or response time, thereby increasing the performance.\n",
    "In python threding module is used to handle threads in Python.A start() method is used to initiate the activity of a thread."
   ]
  },
  {
   "cell_type": "markdown",
   "id": "40c1efb2-cf4f-4d01-a241-a2599275f871",
   "metadata": {},
   "source": [
    "Q.2.Why threading module used? Write the use of the following functions:\n",
    "1.activeCount\n",
    "2.currentThread\n",
    "3.enumerate"
   ]
  },
  {
   "cell_type": "markdown",
   "id": "deea3f0e-c366-4326-9e54-fcc869437c37",
   "metadata": {},
   "source": [
    "Ans:- Threading module is used for creating, controlling and managing threads in python.The threading module is a high-level implementation of multithreading used to deploy an application in Python. \n",
    "1.activeCount() − Returns the number of thread objects that are active.\n",
    "2.currentThread() − Returns the number of thread objects in the caller's thread control.\n",
    "3.enumerate() − Returns a list of all thread objects that are currently active."
   ]
  },
  {
   "cell_type": "markdown",
   "id": "76c8b507-96ad-461c-8983-abd0c3da4f06",
   "metadata": {},
   "source": [
    "Q.3.Explain the following functions :-\n",
    "1.run\n",
    "2.start\n",
    "3.join\n",
    "4.isAlive"
   ]
  },
  {
   "cell_type": "markdown",
   "id": "b2d5d24f-6fd5-495c-9600-4ab8adccc326",
   "metadata": {},
   "source": [
    "Ans :- 1.run()  − The run() method is the entry point for a thread.\n",
    "2,start()  − The start() method starts a thread by calling the run method.\n",
    "3.join()  − The join() waits for threads to terminate.\n",
    "4.isAlive()  − The isAlive() method checks whether a thread is still executing."
   ]
  },
  {
   "cell_type": "markdown",
   "id": "da65e475-c994-48d5-a540-f4ca5c706fab",
   "metadata": {},
   "source": [
    "Q.4.Write a python program to create two threads. Thread one must print the list of squares and thread \n",
    "two must print the list of cubes."
   ]
  },
  {
   "cell_type": "code",
   "execution_count": 1,
   "id": "b1ac605b-82ba-41aa-92bf-71caad6edf7b",
   "metadata": {},
   "outputs": [],
   "source": [
    "import threading\n",
    "import time"
   ]
  },
  {
   "cell_type": "code",
   "execution_count": 7,
   "id": "82ebc6e6-46a2-4c02-a446-8b933ae092cf",
   "metadata": {},
   "outputs": [
    {
     "name": "stdout",
     "output_type": "stream",
     "text": [
      "[1]\n",
      "[1]\n",
      "[1, 4]\n",
      "[1, 8]\n",
      "[1, 4, 9]\n",
      "[1, 8, 27]\n",
      "[1, 4, 9, 16][1, 8, 27, 64]\n",
      "\n",
      "[1, 8, 27, 64, 125]\n",
      "[1, 4, 9, 16, 25]\n",
      "[1, 8, 27, 64, 125, 216][1, 4, 9, 16, 25, 36]\n",
      "\n",
      "[1, 4, 9, 16, 25, 36, 49][1, 8, 27, 64, 125, 216, 343]\n",
      "\n",
      "[1, 8, 27, 64, 125, 216, 343, 512][1, 4, 9, 16, 25, 36, 49, 64]\n",
      "\n",
      "[1, 4, 9, 16, 25, 36, 49, 64, 81][1, 8, 27, 64, 125, 216, 343, 512, 729]\n",
      "\n"
     ]
    }
   ],
   "source": [
    "squares=[]\n",
    "cubes=[]\n",
    "def cal_sqr(n):\n",
    "    \n",
    "    for i in range(1,10):\n",
    "        squares.append(i*i)\n",
    "        time.sleep(1)\n",
    "        print(squares)\n",
    "        \n",
    "def cal_cube(n):\n",
    "    \n",
    "    for i in range(1,10):\n",
    "        cubes.append(i*i*i)\n",
    "        time.sleep(1)\n",
    "        print(cubes)\n",
    "        \n",
    "th1 = threading.Thread(target = cal_sqr,args=(squares,))\n",
    "th2 = threading.Thread(target = cal_cube,args=(cubes,))\n",
    "th1.start()\n",
    "th2.start()\n",
    "        \n",
    "\n",
    "\n"
   ]
  },
  {
   "cell_type": "markdown",
   "id": "86b0f5af-399e-4139-b579-cc1d7502dc91",
   "metadata": {},
   "source": [
    "Q.5. State advantages and disadvantages of multithreading."
   ]
  },
  {
   "cell_type": "markdown",
   "id": "b227c349-ee8b-42b7-8063-7ff4425d03cc",
   "metadata": {},
   "source": [
    "Ans :- Following are some of the common advantages of multithreading:\n",
    "\n",
    "a)Enhanced performance by decreased development time\n",
    "b)Simplified and streamlined program coding\n",
    "c)Improvised GUI responsiveness\n",
    "d)Simultaneous and parallelized occurrence of tasks\n",
    "e)Better use of cache storage by utilization of resources\n",
    "f)Decreased cost of maintenance\n",
    "g)Better use of CPU resource\n",
    "\n",
    "Following are some disadvantages of multithreading:\n",
    "a)Complex debugging and testing processes\n",
    "b)Overhead switching of context\n",
    "c)Increased potential for deadlock occurrence\n",
    "d)Increased difficulty level in writing a program\n",
    "e)Unpredictable results\n"
   ]
  },
  {
   "cell_type": "markdown",
   "id": "426c3889-8d8c-41ea-8fcd-2eed8b65dbe0",
   "metadata": {},
   "source": [
    "Q.6.Explain deadlocks and race conditions."
   ]
  },
  {
   "cell_type": "markdown",
   "id": "34e74e43-6d9c-48a0-abc2-6e999b0dc238",
   "metadata": {},
   "source": [
    "Ans :- DEADLOCK\n",
    "A deadlock is a concurrency failure mode where a thread or threads wait for a condition that never occurs.\n",
    "\n",
    "The result is that the deadlock threads are unable to progress and the program is stuck or frozen and must be terminated forcefully.\n",
    "\n",
    "There are many ways in which you may encounter a deadlock in your concurrent program.\n",
    "\n",
    "Deadlocks are not developed intentionally, instead, they are an unexpected side effect or bug in concurrency programming.\n",
    "\n",
    "Common examples of the cause of threading deadlocks include:\n",
    "\n",
    "A thread that waits on itself (e.g. attempts to acquire the same mutex lock twice).\n",
    "Threads that wait on each other (e.g. A waits on B, B waits on A).\n",
    "Thread that fails to release a resource (e.g. mutex lock, semaphore, barrier, condition, event, etc.).\n",
    "Threads that acquire mutex locks in different orders (e.g. fail to perform lock ordering).\n",
    "\n",
    "RACE CONDITIONS\n",
    "This is one of the major issues in concurrent programming. Concurrent access to shared resources can lead to race condition. A race condition may be defined as the occurring of a condition when two or more threads can access shared data and then try to change its value at the same time. Due to this, the values of variables may be unpredictable and vary depending on the timings of context switches of the processes.\n"
   ]
  }
 ],
 "metadata": {
  "kernelspec": {
   "display_name": "Python 3 (ipykernel)",
   "language": "python",
   "name": "python3"
  },
  "language_info": {
   "codemirror_mode": {
    "name": "ipython",
    "version": 3
   },
   "file_extension": ".py",
   "mimetype": "text/x-python",
   "name": "python",
   "nbconvert_exporter": "python",
   "pygments_lexer": "ipython3",
   "version": "3.10.8"
  }
 },
 "nbformat": 4,
 "nbformat_minor": 5
}
